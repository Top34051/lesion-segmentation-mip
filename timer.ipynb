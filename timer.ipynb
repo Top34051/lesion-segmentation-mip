{
 "cells": [
  {
   "cell_type": "code",
   "execution_count": 1,
   "id": "129d4898-596d-455b-a60a-9f07651f309f",
   "metadata": {},
   "outputs": [],
   "source": [
    "import os"
   ]
  },
  {
   "cell_type": "code",
   "execution_count": 2,
   "id": "4996b0fd-c5f5-4eb0-a5f9-1e93fb0a032e",
   "metadata": {},
   "outputs": [],
   "source": [
    "files = os.listdir(\"ground_truth_mips_time\")"
   ]
  },
  {
   "cell_type": "code",
   "execution_count": 4,
   "id": "3471c204-25e4-4fb2-b3ef-3656c4fc496a",
   "metadata": {},
   "outputs": [],
   "source": [
    "times = []\n",
    "for file in files:\n",
    "    if not file.endswith(\".txt\"):\n",
    "        continue\n",
    "    with open(\"ground_truth_mips_time/\" + file) as f:\n",
    "        time = float(f.read())\n",
    "    times.append(time)"
   ]
  },
  {
   "cell_type": "code",
   "execution_count": 5,
   "id": "cb640cd6-3508-45ac-b0c1-ba2e86f886a2",
   "metadata": {},
   "outputs": [
    {
     "data": {
      "text/plain": [
       "233.24052392846286"
      ]
     },
     "execution_count": 5,
     "metadata": {},
     "output_type": "execute_result"
    }
   ],
   "source": [
    "sum(times) / len(times)"
   ]
  },
  {
   "cell_type": "code",
   "execution_count": null,
   "id": "764787b7-ed34-4d01-bcd9-a9caca180fd7",
   "metadata": {},
   "outputs": [],
   "source": []
  }
 ],
 "metadata": {
  "kernelspec": {
   "display_name": "nnunet",
   "language": "python",
   "name": "nnunet"
  },
  "language_info": {
   "codemirror_mode": {
    "name": "ipython",
    "version": 3
   },
   "file_extension": ".py",
   "mimetype": "text/x-python",
   "name": "python",
   "nbconvert_exporter": "python",
   "pygments_lexer": "ipython3",
   "version": "3.9.19"
  }
 },
 "nbformat": 4,
 "nbformat_minor": 5
}
