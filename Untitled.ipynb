{
 "cells": [
  {
   "cell_type": "code",
   "execution_count": 1,
   "id": "c17e9319-0675-4f45-90b1-cbd14d3db952",
   "metadata": {},
   "outputs": [],
   "source": [
    "import json"
   ]
  },
  {
   "cell_type": "code",
   "execution_count": 12,
   "id": "5b615891-4590-4477-bd10-cb5704c24125",
   "metadata": {},
   "outputs": [
    {
     "name": "stdout",
     "output_type": "stream",
     "text": [
      "Early life Born on a ranch in Bellavista, on the outskirts of Culiacán, Sinaloa, Félix Gallardo graduated from high school and studied business in college. He took a job as a Mexican Federal Judicial Police agent. He worked as a family bodyguard for the governor of Sinaloa state Leopoldo Sánchez Celis, whose political connections helped Félix Gallardo to build his drug trafficking organization. He was also the godfather of Sánchez Celis' son, Rodolfo.Félix Gallardo started working for drug traff\n",
      "\n",
      "Memoirs In 2008, the investigative journalist Diego Enrique Osorno was able to contact Félix Gallardo through the latter's 13-year-old son. Félix Gallardo secretly wrote about his life and passed the hand-written notes to Osorno. The memoirs include narrative about his arrest and presentation before police, and explains a bit of his family tree, jumping from one topic to another. Selections of the 35 pages were published in the Mexican magazine Gatopardo, with background by the journalist.\n",
      "\n",
      "Miguel Ángel Félix Gallardo , commonly referred to by his aliases El Jefe de Jefes and El Padrino , is a convicted Mexican drug kingpin and a former Federal Judicial Police agent. He was one of the founders of the Guadalajara Cartel in the 1980s. Throughout the 1980s, the cartel controlled much of the drug trafficking in Mexico and the corridors along the Mexico–United States border. Félix Gallardo was arrested in 1989 for putting in place the murder of Drug Enforcement Administration agent Enri\n"
     ]
    }
   ],
   "source": [
    "print(\"\\n\\n\".join(result[\"1\"][\"contexts\"][:3]))"
   ]
  },
  {
   "cell_type": "code",
   "execution_count": 14,
   "id": "7a7808c8-e9f8-415c-b240-5c1eb21c6f95",
   "metadata": {},
   "outputs": [
    {
     "name": "stdout",
     "output_type": "stream",
     "text": [
      "gemini-2b-contrastive\n",
      "Félix Gallardo was born to a peasant family in the village of Bellavista. He was a member of the Sinaloa Cartel, which he founded in 1981. He was the leader of the cartel until his arrest in 1989. He is considered by many to be the godfather of Mexican drug cartels.\n",
      "\n",
      "\n",
      "\n",
      "gemini-2b-contrastive-reward-similarity-2\n",
      "Miguel Angel Felix Gallard ( born 1936 ) is a former leader of Mexican drug trafficking organization known in the United States as \"The Guadalajara Cartel\" and in his native Mexico as \"El Padrino\", the Godfather. He has been called the most powerful drug dealer in the world.\n",
      "He was born in 1936 in the town of Bellavista, Sinaloa, in the north of Mexico.\n",
      "At the age of 16 he was a member of the Federal Judicial Police of Mexico.\n",
      "In 1959 he became a member of the Sinaloa cartel, which was headed by the drug dealer Rafael Aguilar Guajardo.\n",
      "In 1966 he was arrested for drug trafficking, but escaped from prison.\n",
      "In 1973 he was arrested for drug trafficking. He was released in 1975 and became the leader of the Sinaloa cartel.\n",
      "In 1980 he founded the Guadalajara cartel with\n",
      "\n",
      "\n",
      "\n",
      "gemini-2b-contrastive-reward-20-10\n",
      "1. Born on a ranch in Bellavista, on the outskirts of Culiacán, Sinaloa, Félix Gallardo graduated from high school and studied business in college.\n",
      "\n",
      "\n",
      "\n",
      "gemini-2b-contrastive-reward-5-10-1.5\n",
      "Félix Gallardo, commonly referred to by his aliases El Jefe de Jefes and El Padrino, is a convicted Mexican drug kingpin and a former Federal Judicial Police agent. He was one of the founders of the Guadalajara Cartel in the 1980s. Throughout the 1980s, the cartel controlled much of the drug trafficking in Mexico and the corridors along the Mexico–United States border. Félix Gallardo was arrested in 1989 for putting into place the murder of DEA agent Enrique Camarena Salazar, which resulted in a 15-year prison sentence.\n",
      "\n",
      "\n",
      "\n"
     ]
    }
   ],
   "source": [
    "names = [\n",
    "    \"gemini-2b-contrastive\",\n",
    "    \"gemini-2b-contrastive-reward-similarity-2\",\n",
    "    \"gemini-2b-contrastive-reward-20-10\",\n",
    "    \"gemini-2b-contrastive-reward-5-10-1.5\",\n",
    "]\n",
    "for name in names:\n",
    "    result = json.load(open(f\"biogen/{name}.json\", \"r\"))\n",
    "    print(name)\n",
    "    print(result[\"1\"][\"response\"])\n",
    "    print(\"\\n\" * 2)"
   ]
  },
  {
   "cell_type": "code",
   "execution_count": null,
   "id": "787ab5da-0b6d-4195-ba25-5ab0b2df8574",
   "metadata": {},
   "outputs": [],
   "source": []
  }
 ],
 "metadata": {
  "kernelspec": {
   "display_name": "top",
   "language": "python",
   "name": "top"
  },
  "language_info": {
   "codemirror_mode": {
    "name": "ipython",
    "version": 3
   },
   "file_extension": ".py",
   "mimetype": "text/x-python",
   "name": "python",
   "nbconvert_exporter": "python",
   "pygments_lexer": "ipython3",
   "version": "3.9.18"
  }
 },
 "nbformat": 4,
 "nbformat_minor": 5
}
