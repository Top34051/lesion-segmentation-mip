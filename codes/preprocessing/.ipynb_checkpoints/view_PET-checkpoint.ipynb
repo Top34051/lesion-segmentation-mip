{
 "cells": [
  {
   "cell_type": "code",
   "execution_count": null,
   "id": "829f39ff-58ac-440b-9ad3-3485e454faca",
   "metadata": {},
   "outputs": [],
   "source": [
    "import nibabel as nib\n",
    "import matplotlib.pyplot as plt\n",
    "import numpy as np\n",
    "import cv2\n",
    "from scipy.ndimage import zoom"
   ]
  },
  {
   "cell_type": "code",
   "execution_count": null,
   "id": "76c15b13-c175-46e7-8ac0-f794b8a32a36",
   "metadata": {},
   "outputs": [],
   "source": [
    "# Load the .nii.gz file\n",
    "#file_path = '../data/sub-data/PETCT_5d10be5b89/05-30-2005-NA-PET-CT Ganzkoerper  primaer mit KM-53829/SUV.nii.gz'\n",
    "#file_path = '../data/sub-data/PETCT_0af7ffe12a/08-12-2005-NA-PET-CT Ganzkoerper  primaer mit KM-96698/SUV.nii.gz'\n",
    "#file_path = '../data/sub-data/PETCT_fe705ea1cc/12-29-2002-NA-Unspecified CT ABDOMEN-93772/SUV.nii.gz'\n",
    "file_path = '../data/sub-data/PETCT_fe705ea1cc/12-29-2002-NA-Unspecified CT ABDOMEN-93772/SUV.nii.gz'\n"
   ]
  },
  {
   "cell_type": "markdown",
   "id": "42555b37-a843-4f91-b212-ab7a40ef2687",
   "metadata": {},
   "source": [
    "# functions"
   ]
  },
  {
   "cell_type": "code",
   "execution_count": null,
   "id": "076582b2-0720-4271-938d-99badb89460a",
   "metadata": {},
   "outputs": [],
   "source": [
    "def visualize_slice(img, slice_number):\n",
    "    plt.imshow(img[slice_number,:,:], cmap='hot')\n",
    "    plt.show()\n",
    "    plt.imshow(img[:,slice_number,:], cmap='hot')\n",
    "    plt.show()\n",
    "    plt.imshow(img[:,:,slice_number], cmap='hot')\n",
    "    plt.show()\n",
    "\n",
    "\n",
    "def dice_score(gt, pred):\n",
    "    epsilon = 1e-5\n",
    "    numerator = 2 * ((gt * pred).sum())\n",
    "    denominator = gt.sum() + pred.sum() + epsilon\n",
    "    dice = numerator / denominator\n",
    "    return dice"
   ]
  },
  {
   "cell_type": "markdown",
   "id": "bfdeca9a-1121-49e2-b81f-a2901fa66423",
   "metadata": {},
   "source": [
    "# main codes"
   ]
  },
  {
   "cell_type": "code",
   "execution_count": null,
   "id": "629ec7a8-442d-417c-9965-0940b7bde2c7",
   "metadata": {},
   "outputs": [],
   "source": [
    "data = nib.load(file_path)\n",
    "# Convert the image data to a numpy array\n",
    "img = data.get_fdata()\n",
    "print(img.shape)\n",
    "print(data.header['pixdim'])\n",
    "print(img.min(), img.max())\n",
    "\n",
    "# x is horizontal dimension when view cross sectional image\n",
    "# y is vertical dimension when view cross sectional image\n",
    "# z is height dimension of the patient\n",
    "x,y,z = img.shape\n",
    "x_scale, y_scale, z_scale = data.header['pixdim'][1:4]\n",
    "min_scale = min(x_scale, y_scale, z_scale)\n",
    "x_scale /= min_scale\n",
    "y_scale /= min_scale\n",
    "z_scale /= min_scale\n",
    "\n",
    "img = zoom(img, (x_scale, y_scale, z_scale), order=1)  \n",
    "#Spline order 0 is equivalent to nearest neighbor interpolation.\n",
    "#Spline order 1 is equivalent to linear interpolation.\n",
    "print(img.shape)\n",
    "\n",
    "visualize_slice(img, slice_number=200)"
   ]
  },
  {
   "cell_type": "code",
   "execution_count": null,
   "id": "648b2234-25f2-4070-a0f8-a6e9ce3508cd",
   "metadata": {},
   "outputs": [],
   "source": [
    "print(img.min(), img.max())\n",
    "vmin = img.min()\n",
    "vmax = img.max()\n",
    "x,y,z = img.shape\n",
    "\n",
    "mip_x = np.max(img, axis=0)\n",
    "mip_y = np.max(img, axis=1)\n",
    "mip_z = np.max(img, axis=2)\n",
    "\n",
    "plt.imshow(mip_x, cmap='hot', vmin=vmin, vmax=vmax)\n",
    "plt.show()\n",
    "plt.imshow(mip_y, cmap='hot', vmin=vmin, vmax=vmax)\n",
    "plt.show()\n",
    "plt.imshow(mip_z, cmap='hot', vmin=vmin, vmax=vmax)\n",
    "plt.show()"
   ]
  },
  {
   "cell_type": "code",
   "execution_count": null,
   "id": "cbd7cef3-b79c-45cc-b586-875af0f8a766",
   "metadata": {},
   "outputs": [],
   "source": []
  }
 ],
 "metadata": {
  "environment": {
   "kernel": "python3",
   "name": ".m121",
   "type": "gcloud",
   "uri": "us-docker.pkg.dev/deeplearning-platform-release/gcr.io/:m121"
  },
  "kernelspec": {
   "display_name": "Python 3 (Local)",
   "language": "python",
   "name": "python3"
  },
  "language_info": {
   "codemirror_mode": {
    "name": "ipython",
    "version": 3
   },
   "file_extension": ".py",
   "mimetype": "text/x-python",
   "name": "python",
   "nbconvert_exporter": "python",
   "pygments_lexer": "ipython3",
   "version": "3.10.14"
  }
 },
 "nbformat": 4,
 "nbformat_minor": 5
}
