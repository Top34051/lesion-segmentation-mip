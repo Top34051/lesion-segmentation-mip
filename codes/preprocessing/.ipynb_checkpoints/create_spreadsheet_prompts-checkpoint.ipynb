{
 "cells": [
  {
   "cell_type": "code",
   "execution_count": 1,
   "id": "da1170e7-546e-4b45-918f-8b4b08306515",
   "metadata": {
    "tags": []
   },
   "outputs": [],
   "source": [
    "import pandas as pd\n",
    "pd.set_option('display.max_rows', None)\n",
    "import os\n",
    "from os.path import join, exists\n",
    "from tqdm import tqdm\n",
    "from sklearn.model_selection import StratifiedGroupKFold"
   ]
  },
  {
   "cell_type": "code",
   "execution_count": 2,
   "id": "f816e8d0-3155-4562-9137-5ff6cb7dee3c",
   "metadata": {
    "tags": []
   },
   "outputs": [],
   "source": [
    "dataset_path = '../../spreadsheet/Clinical_Metadata_FDG_PET_CT_Lesions.csv'\n",
    "#mips_dir = '../../MIP'\n",
    "mips_dir = '../../MIP_square512'\n",
    "\n",
    "export_split_path = '../../spreadsheet/data_split_study_level.xlsx'\n",
    "#export_path = '../../spreadsheet/MIP_paths_and_prompts.xlsx'\n",
    "export_path = '../../spreadsheet/MIP_paths_and_prompts_square512.xlsx'"
   ]
  },
  {
   "cell_type": "code",
   "execution_count": 3,
   "id": "f7219c12-29f2-4efe-baa7-99bc9103fdf1",
   "metadata": {
    "tags": []
   },
   "outputs": [
    {
     "name": "stderr",
     "output_type": "stream",
     "text": [
      "3943it [00:00, 6362.44it/s]\n"
     ]
    }
   ],
   "source": [
    "suv_mip_paths = []\n",
    "seg_mip_paths = []\n",
    "for r,d,f in tqdm(os.walk(mips_dir)):\n",
    "    for filename in f:\n",
    "        if filename.startswith('SUV_MIP'):\n",
    "            suv_mip_paths.append(join(r,filename))\n",
    "        if filename.startswith('SEG_MIP'):\n",
    "            seg_mip_paths.append(join(r,filename))\n",
    "        "
   ]
  },
  {
   "cell_type": "code",
   "execution_count": 4,
   "id": "0d5aafe3-7e50-4a25-995d-7b1bdcb05c5d",
   "metadata": {
    "tags": []
   },
   "outputs": [
    {
     "name": "stderr",
     "output_type": "stream",
     "text": [
      "100%|██████████| 12168/12168 [00:00<00:00, 122670.42it/s]\n"
     ]
    }
   ],
   "source": [
    "records = []\n",
    "\n",
    "for suv_mip_path in tqdm(suv_mip_paths):\n",
    "    seg_mip_path = suv_mip_path.replace('SUV_MIP', 'SEG_MIP')\n",
    "    comps = suv_mip_path.split('/')\n",
    "    subject_id = comps[3]\n",
    "    study_id = comps[4]\n",
    "    \n",
    "    filename = comps[-1]\n",
    "    filename_comps = filename.split('_')\n",
    "    axis = filename_comps[-3]\n",
    "    degree = filename_comps[-2]\n",
    "    \n",
    "    records.append({\n",
    "        'Subject ID': subject_id,\n",
    "        'Study ID': study_id,\n",
    "        'SUV_MIP_path': suv_mip_path,\n",
    "        'SEG_MIP_path': seg_mip_path,\n",
    "        'projection_axis': axis,\n",
    "        'rotation_degrees': degree\n",
    "    })"
   ]
  },
  {
   "cell_type": "code",
   "execution_count": 5,
   "id": "7620fa7c-2cb9-45c4-ad67-c2f50a5f15ab",
   "metadata": {
    "tags": []
   },
   "outputs": [
    {
     "name": "stdout",
     "output_type": "stream",
     "text": [
      "(12168, 6)\n"
     ]
    }
   ],
   "source": [
    "df = pd.DataFrame.from_records(records)\n",
    "print(df.shape)"
   ]
  },
  {
   "cell_type": "code",
   "execution_count": 6,
   "id": "2f4cde34-f953-4b0d-adc3-8af1ba9045dc",
   "metadata": {},
   "outputs": [
    {
     "name": "stdout",
     "output_type": "stream",
     "text": [
      "(3042, 20)\n",
      "(1014, 20)\n"
     ]
    }
   ],
   "source": [
    "annot_df = pd.read_csv(dataset_path, dtype=str)\n",
    "print(annot_df.shape)\n",
    "annot_df = annot_df.drop_duplicates(subset=['Subject ID','Study UID'],\n",
    "                                   ignore_index=True)\n",
    "print(annot_df.shape)\n",
    "\n",
    "sgkf = StratifiedGroupKFold(n_splits=5)\n",
    "for fold, (_, test_index) in enumerate(sgkf.split(annot_df, annot_df['diagnosis'], annot_df['Subject ID'])):\n",
    "    annot_df.loc[test_index,'fold'] = fold"
   ]
  },
  {
   "cell_type": "code",
   "execution_count": 7,
   "id": "7c0ec19a-768d-434c-a815-439b06d9c206",
   "metadata": {
    "tags": []
   },
   "outputs": [],
   "source": [
    "annot_df.loc[annot_df['fold']==3, 'allocated_set'] = 'test'\n",
    "annot_df.loc[annot_df['fold']!=3, 'allocated_set'] = 'train_val'"
   ]
  },
  {
   "cell_type": "code",
   "execution_count": 8,
   "id": "69fcc956-60b3-472b-89d7-1a0878e5849b",
   "metadata": {
    "tags": []
   },
   "outputs": [],
   "source": [
    "for row_idx in annot_df.index:\n",
    "    file_loc = annot_df.loc[row_idx, 'File Location']\n",
    "    comps = file_loc.split('/')\n",
    "    study_id = comps[3]\n",
    "    annot_df.loc[row_idx, 'Study ID'] = study_id"
   ]
  },
  {
   "cell_type": "code",
   "execution_count": 9,
   "id": "ea7b9570-b55b-4418-a2a1-8ceb27bcf4dc",
   "metadata": {},
   "outputs": [],
   "source": [
    "annot_df.to_excel(export_split_path, index=False)"
   ]
  },
  {
   "cell_type": "code",
   "execution_count": 10,
   "id": "23115d9b-a503-4bcf-8d2b-ec2693ef6729",
   "metadata": {
    "tags": []
   },
   "outputs": [
    {
     "data": {
      "text/plain": [
       "Index(['Series UID', 'Collection', '3rd Party Analysis',\n",
       "       'Data Description URI', 'Subject ID', 'Study UID', 'Study Description',\n",
       "       'Study Date', 'Series Description', 'Manufacturer', 'Modality',\n",
       "       'SOP Class Name', 'SOP Class UID', 'Number of Images', 'File Size',\n",
       "       'File Location', 'Download Timestamp', 'diagnosis', 'age', 'sex',\n",
       "       'fold', 'allocated_set', 'Study ID'],\n",
       "      dtype='object')"
      ]
     },
     "execution_count": 10,
     "metadata": {},
     "output_type": "execute_result"
    }
   ],
   "source": [
    "annot_df.columns"
   ]
  },
  {
   "cell_type": "code",
   "execution_count": 11,
   "id": "fe9b7850-48b9-40ce-a420-ae18b984ec67",
   "metadata": {
    "tags": []
   },
   "outputs": [
    {
     "name": "stdout",
     "output_type": "stream",
     "text": [
      "(12168, 11)\n"
     ]
    }
   ],
   "source": [
    "df = df.merge(annot_df[['Study ID','diagnosis', 'age', 'sex', 'fold', 'allocated_set']],\n",
    "             how='left',\n",
    "             on='Study ID').reset_index(drop=True)\n",
    "print(df.shape)"
   ]
  },
  {
   "cell_type": "code",
   "execution_count": 12,
   "id": "31180dd5-bad1-4d8d-b618-72d61b7f4a17",
   "metadata": {
    "tags": []
   },
   "outputs": [
    {
     "data": {
      "text/plain": [
       "diagnosis\n",
       "NEGATIVE       6156\n",
       "MELANOMA       2256\n",
       "LUNG_CANCER    2016\n",
       "LYMPHOMA       1740\n",
       "Name: count, dtype: int64"
      ]
     },
     "execution_count": 12,
     "metadata": {},
     "output_type": "execute_result"
    }
   ],
   "source": [
    "df['diagnosis'].value_counts()"
   ]
  },
  {
   "cell_type": "code",
   "execution_count": 13,
   "id": "de046443-f88e-4045-9175-1b76acb37402",
   "metadata": {
    "tags": []
   },
   "outputs": [],
   "source": [
    "df['diagnosis_lower'] = df['diagnosis'].str.replace('_',' ').str.lower()"
   ]
  },
  {
   "cell_type": "code",
   "execution_count": 14,
   "id": "f862eb10-6ef9-4ad9-b77a-9e4fe8edfb1e",
   "metadata": {
    "tags": []
   },
   "outputs": [
    {
     "data": {
      "text/plain": [
       "diagnosis_lower\n",
       "negative       6156\n",
       "melanoma       2256\n",
       "lung cancer    2016\n",
       "lymphoma       1740\n",
       "Name: count, dtype: int64"
      ]
     },
     "execution_count": 14,
     "metadata": {},
     "output_type": "execute_result"
    }
   ],
   "source": [
    "df['diagnosis_lower'].value_counts()"
   ]
  },
  {
   "cell_type": "code",
   "execution_count": 15,
   "id": "0efd2d5d-7fb3-4664-944f-96f09d869eff",
   "metadata": {},
   "outputs": [
    {
     "data": {
      "text/plain": [
       "Index(['Subject ID', 'Study ID', 'SUV_MIP_path', 'SEG_MIP_path',\n",
       "       'projection_axis', 'rotation_degrees', 'diagnosis', 'age', 'sex',\n",
       "       'fold', 'allocated_set', 'diagnosis_lower'],\n",
       "      dtype='object')"
      ]
     },
     "execution_count": 15,
     "metadata": {},
     "output_type": "execute_result"
    }
   ],
   "source": [
    "df.columns"
   ]
  },
  {
   "cell_type": "markdown",
   "id": "b71f83bd-8a53-42d4-a8b0-e133c5f763f2",
   "metadata": {},
   "source": [
    "# create prompts"
   ]
  },
  {
   "cell_type": "code",
   "execution_count": 16,
   "id": "532d567d-e28a-43c7-8954-968cb8ee8c8f",
   "metadata": {
    "tags": []
   },
   "outputs": [],
   "source": [
    "for row_idx in df.index:\n",
    "    axis = df.loc[row_idx, 'projection_axis']\n",
    "    if axis == 'x':\n",
    "        plane = 'sagittal'\n",
    "    elif axis == 'y':\n",
    "        plane = 'coronal'\n",
    "    elif axis == 'z':\n",
    "        plane = 'cross-sectional'\n",
    "    degree = df.loc[row_idx, 'rotation_degrees']\n",
    "    age = int(df.loc[row_idx, 'age'][:-1])\n",
    "    sex = df.loc[row_idx, 'sex']\n",
    "    if sex == 'M':\n",
    "        sex = 'male'\n",
    "    elif sex == 'F':\n",
    "        sex = 'female'\n",
    "    else:\n",
    "        sex = 'unknown-sex'\n",
    "    Dx = df.loc[row_idx, 'diagnosis_lower']\n",
    "    \n",
    "    if Dx == 'negative':\n",
    "        prompt = 'Positron emission tomography (PET) of a {0}-year-old {1} patient without cancer. The PET scan is rotated by {2} degrees. Maximum intensity projection is calculated along the {3} plane.'.format(\n",
    "            age,\n",
    "            sex,\n",
    "            degree,\n",
    "            plane\n",
    "        )\n",
    "    else:\n",
    "        prompt = 'Positron emission tomography (PET) of a {0}-year-old {1} patient with {2}. The PET scan is rotated by {3} degrees. Maximum intensity projection is calculated along the {4} plane.'.format(\n",
    "            age,\n",
    "            sex,\n",
    "            Dx,\n",
    "            degree,\n",
    "            plane\n",
    "        )\n",
    "    \n",
    "    df.loc[row_idx, 'prompt'] = prompt\n",
    "        "
   ]
  },
  {
   "cell_type": "code",
   "execution_count": 17,
   "id": "243b0387-bd8b-457f-9264-9b2bb039e6a4",
   "metadata": {
    "tags": []
   },
   "outputs": [],
   "source": [
    "df.to_excel(export_path, index=False)"
   ]
  }
 ],
 "metadata": {
  "environment": {
   "kernel": "preprocess",
   "name": ".m121",
   "type": "gcloud",
   "uri": "us-docker.pkg.dev/deeplearning-platform-release/gcr.io/:m121"
  },
  "kernelspec": {
   "display_name": "preprocess (Local)",
   "language": "python",
   "name": "preprocess"
  },
  "language_info": {
   "codemirror_mode": {
    "name": "ipython",
    "version": 3
   },
   "file_extension": ".py",
   "mimetype": "text/x-python",
   "name": "python",
   "nbconvert_exporter": "python",
   "pygments_lexer": "ipython3",
   "version": "3.8.5"
  }
 },
 "nbformat": 4,
 "nbformat_minor": 5
}
