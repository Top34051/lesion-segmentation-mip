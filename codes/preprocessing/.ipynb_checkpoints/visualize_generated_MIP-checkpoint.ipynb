{
 "cells": [
  {
   "cell_type": "code",
   "execution_count": null,
   "id": "7f958e37-7353-4026-b6f5-fa5ae5a76920",
   "metadata": {
    "tags": []
   },
   "outputs": [],
   "source": [
    "import os\n",
    "from os.path import join, exists\n",
    "import matplotlib.pyplot as plt\n",
    "import cv2\n",
    "import pickle\n",
    "import numpy as np\n",
    "import pandas as pd"
   ]
  },
  {
   "cell_type": "code",
   "execution_count": null,
   "id": "e92d847b-36f4-4720-8148-9aa46e7a1fd4",
   "metadata": {
    "tags": []
   },
   "outputs": [],
   "source": [
    "dataset_path = '../../spreadsheet/MIP_paths_and_prompts_square512_gen.xlsx'"
   ]
  },
  {
   "cell_type": "code",
   "execution_count": null,
   "id": "525e7584-4301-4e33-b90c-21402f699d07",
   "metadata": {},
   "outputs": [],
   "source": [
    "df = pd.read_excel(dataset_path)"
   ]
  },
  {
   "cell_type": "code",
   "execution_count": null,
   "id": "aebd2a7a-00b1-4dc9-8b2f-1b0bc2b8f5b3",
   "metadata": {
    "tags": []
   },
   "outputs": [],
   "source": [
    "for row_idx in df.index:\n",
    "    \n",
    "    suv_path = df.loc[row_idx, 'SUV_MIP_path']\n",
    "    gen_suv_path = df.loc[row_idx, 'gen_SUV_MIP_path']\n",
    "    seg_path = df.loc[row_idx, 'gen_SEG_MIP_path']\n",
    "    prompt = df.loc[row_idx, 'prompt']\n",
    "    \n",
    "    with open(suv_path, 'rb') as f:\n",
    "        suv_img = pickle.load(f)  \n",
    "    with open(gen_suv_path, 'rb') as f:\n",
    "        gen_suv_img = pickle.load(f)\n",
    "    with open(seg_path, 'rb') as f:\n",
    "        seg_img = pickle.load(f)  \n",
    "    \n",
    "    print(prompt)\n",
    "    \n",
    "    fig,ax = plt.subplots(1,3, figsize=(9,3))\n",
    "    ax[0].imshow(gen_suv_img, cmap='hot')\n",
    "    ax[0].set_title('generated image')\n",
    "    ax[1].imshow(seg_img, cmap='gray')\n",
    "    ax[1].set_title('segmentation mask')\n",
    "    ax[2].imshow(suv_img, cmap='hot')\n",
    "    ax[2].set_title('real image')\n",
    "    \n",
    "    plt.show()\n",
    "    "
   ]
  },
  {
   "cell_type": "code",
   "execution_count": null,
   "id": "5735bb58-3878-49dd-9d5e-750e7abd52cc",
   "metadata": {},
   "outputs": [],
   "source": []
  },
  {
   "cell_type": "code",
   "execution_count": null,
   "id": "c1f1e9b2-1223-4979-b936-066cce0d232b",
   "metadata": {},
   "outputs": [],
   "source": []
  },
  {
   "cell_type": "code",
   "execution_count": null,
   "id": "1cbc4862-de45-4842-922e-a96593c50241",
   "metadata": {},
   "outputs": [],
   "source": []
  }
 ],
 "metadata": {
  "environment": {
   "kernel": "preprocess",
   "name": ".m121",
   "type": "gcloud",
   "uri": "us-docker.pkg.dev/deeplearning-platform-release/gcr.io/:m121"
  },
  "kernelspec": {
   "display_name": "preprocess (Local)",
   "language": "python",
   "name": "preprocess"
  },
  "language_info": {
   "codemirror_mode": {
    "name": "ipython",
    "version": 3
   },
   "file_extension": ".py",
   "mimetype": "text/x-python",
   "name": "python",
   "nbconvert_exporter": "python",
   "pygments_lexer": "ipython3",
   "version": "3.8.5"
  }
 },
 "nbformat": 4,
 "nbformat_minor": 5
}
