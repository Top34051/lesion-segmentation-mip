{
 "cells": [
  {
   "cell_type": "code",
   "execution_count": null,
   "id": "829f39ff-58ac-440b-9ad3-3485e454faca",
   "metadata": {
    "tags": []
   },
   "outputs": [],
   "source": [
    "import nibabel as nib\n",
    "import matplotlib.pyplot as plt\n",
    "import numpy as np\n",
    "import cv2\n",
    "from scipy.ndimage import zoom, rotate\n",
    "from tqdm import tqdm\n",
    "import os\n",
    "from os.path import join, dirname, basename, exists\n",
    "from pprint import pprint\n",
    "import pickle\n",
    "import pandas as pd"
   ]
  },
  {
   "cell_type": "code",
   "execution_count": null,
   "id": "76c15b13-c175-46e7-8ac0-f794b8a32a36",
   "metadata": {},
   "outputs": [],
   "source": [
    "dataset_path = '../../spreadsheet/Clinical_Metadata_FDG_PET_CT_Lesions.csv'\n"
   ]
  },
  {
   "cell_type": "code",
   "execution_count": null,
   "id": "629ec7a8-442d-417c-9965-0940b7bde2c7",
   "metadata": {},
   "outputs": [],
   "source": [
    "df = pd.read_excel(dataset_path)\n",
    "\n",
    "for row_idx in tqdm(df.index):\n",
    "    ori_path = df.loc[row_idx, '...']  #path to the raw SUV data\n",
    "    data = nib.load(ori_path)\n",
    "    img = data.get_fdata()\n",
    "\n",
    "    x,y,z = img.shape\n",
    "    x_scale, y_scale, z_scale = data.header['pixdim'][1:4]\n",
    "    min_scale = min(x_scale, y_scale, z_scale)\n",
    "    x_scale /= min_scale\n",
    "    y_scale /= min_scale\n",
    "    z_scale /= min_scale\n",
    "\n",
    "    seg_path = df.loc[row_idx, '...']  #path to the reconstructed segmentation\n",
    "    with open(seg_path, 'rb') as f:\n",
    "        seg = pickle.load(f)\n",
    "        \n",
    "    revert_seg = zoom(seg, (1.0/x_scale, 1.0/y_scale, 1.0/z_scale), order=0)  \n",
    "    #Spline order 0 is equivalent to nearest neighbor interpolation.\n",
    "\n",
    "    #write revert_seg to the path you want\n",
    "            "
   ]
  }
 ],
 "metadata": {
  "environment": {
   "kernel": "preprocess",
   "name": "workbench-notebooks.m120",
   "type": "gcloud",
   "uri": "us-docker.pkg.dev/deeplearning-platform-release/gcr.io/workbench-notebooks:m120"
  },
  "kernelspec": {
   "display_name": "Python 3 (ipykernel)",
   "language": "python",
   "name": "python3"
  },
  "language_info": {
   "codemirror_mode": {
    "name": "ipython",
    "version": 3
   },
   "file_extension": ".py",
   "mimetype": "text/x-python",
   "name": "python",
   "nbconvert_exporter": "python",
   "pygments_lexer": "ipython3",
   "version": "3.11.5"
  }
 },
 "nbformat": 4,
 "nbformat_minor": 5
}
