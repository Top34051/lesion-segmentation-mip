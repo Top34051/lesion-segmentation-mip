{
 "cells": [
  {
   "cell_type": "code",
   "execution_count": 1,
   "id": "db70d13f-dbb3-4475-8ce8-663825bd9f1e",
   "metadata": {
    "tags": []
   },
   "outputs": [],
   "source": [
    "import os\n",
    "from os.path import join, exists, dirname\n",
    "from tqdm import tqdm\n",
    "import pickle\n",
    "import matplotlib.pyplot as plt\n",
    "from scipy.ndimage import zoom\n",
    "import numpy as np"
   ]
  },
  {
   "cell_type": "code",
   "execution_count": 2,
   "id": "2cda72fe-1673-4bac-a9fa-7c04ed710cd6",
   "metadata": {
    "tags": []
   },
   "outputs": [],
   "source": [
    "mips_dir = '../../MIP'\n"
   ]
  },
  {
   "cell_type": "code",
   "execution_count": 3,
   "id": "4295a9b7-4da9-4659-bca7-8666034fa473",
   "metadata": {
    "tags": []
   },
   "outputs": [
    {
     "name": "stderr",
     "output_type": "stream",
     "text": [
      "3943it [00:04, 924.86it/s] \n"
     ]
    }
   ],
   "source": [
    "suv_mip_paths = []\n",
    "seg_mip_paths = []\n",
    "for r,d,f in tqdm(os.walk(mips_dir)):\n",
    "    for filename in f:\n",
    "        if filename.startswith('SUV_MIP'):\n",
    "            suv_mip_paths.append(join(r,filename))\n",
    "        if filename.startswith('SEG_MIP'):\n",
    "            seg_mip_paths.append(join(r,filename))"
   ]
  },
  {
   "cell_type": "code",
   "execution_count": 4,
   "id": "b7e7933c-81b9-4aec-8f02-a073d9b3e80f",
   "metadata": {},
   "outputs": [],
   "source": [
    "def resize_img_square512(img_paths):\n",
    "    for img_path in tqdm(img_paths):\n",
    "        #print(img_path)\n",
    "        with open(img_path, 'rb') as f:\n",
    "            img = pickle.load(f)\n",
    "        \n",
    "        height,width = img.shape\n",
    "        max_dim = max(height, width)\n",
    "         \n",
    "        resized_img = zoom(img, 512.0/max_dim, order=0, mode='constant', cval=0.0)\n",
    "        #print(resized_img.shape)\n",
    "        \n",
    "        out_img = np.zeros((512,512))\n",
    "        h, w = resized_img.shape\n",
    "        margin_h = int((512 - h) / 2)\n",
    "        margin_w = int((512 - w) / 2)\n",
    "        out_img[margin_h:margin_h+h, margin_w:margin_w+w] = resized_img\n",
    "        \n",
    "        out_path = img_path.replace('/MIP/', '/MIP_square512/')\n",
    "        #print(out_path)\n",
    "        out_dir = dirname(out_path)\n",
    "        if not exists(out_dir):\n",
    "            os.makedirs(out_dir)\n",
    "        with open(out_path, 'wb') as f:\n",
    "            pickle.dump(out_img, f)\n",
    "            "
   ]
  },
  {
   "cell_type": "code",
   "execution_count": 5,
   "id": "8cb49ecb-7dc3-4ec6-ac37-e47ed2c844cd",
   "metadata": {},
   "outputs": [
    {
     "name": "stderr",
     "output_type": "stream",
     "text": [
      "100%|██████████| 12168/12168 [07:47<00:00, 26.00it/s]\n"
     ]
    }
   ],
   "source": [
    "resize_img_square512(suv_mip_paths)\n",
    "resize_img_square512(seg_mip_paths)"
   ]
  },
  {
   "cell_type": "code",
   "execution_count": null,
   "id": "396018fd-e0c7-440e-9f0b-df1b5bc60fda",
   "metadata": {},
   "outputs": [],
   "source": []
  }
 ],
 "metadata": {
  "environment": {
   "kernel": "preprocess",
   "name": ".m121",
   "type": "gcloud",
   "uri": "us-docker.pkg.dev/deeplearning-platform-release/gcr.io/:m121"
  },
  "kernelspec": {
   "display_name": "preprocess (Local)",
   "language": "python",
   "name": "preprocess"
  },
  "language_info": {
   "codemirror_mode": {
    "name": "ipython",
    "version": 3
   },
   "file_extension": ".py",
   "mimetype": "text/x-python",
   "name": "python",
   "nbconvert_exporter": "python",
   "pygments_lexer": "ipython3",
   "version": "3.8.5"
  }
 },
 "nbformat": 4,
 "nbformat_minor": 5
}
