{
 "cells": [
  {
   "cell_type": "code",
   "execution_count": null,
   "id": "829f39ff-58ac-440b-9ad3-3485e454faca",
   "metadata": {},
   "outputs": [],
   "source": [
    "import nibabel as nib\n",
    "import matplotlib.pyplot as plt\n",
    "import numpy as np"
   ]
  },
  {
   "cell_type": "code",
   "execution_count": null,
   "id": "629ec7a8-442d-417c-9965-0940b7bde2c7",
   "metadata": {},
   "outputs": [],
   "source": [
    "# Load the .nii.gz file\n",
    "file_path = '../data/sub-data/PETCT_5d10be5b89/05-30-2005-NA-PET-CT Ganzkoerper  primaer mit KM-53829/PET.nii.gz'\n",
    "img = nib.load(file_path)\n",
    "# Convert the image data to a numpy array\n",
    "data = np.transpose(img.get_fdata(), (0,1,2))\n",
    "# Display a specific slice (change the slice number as needed)\n",
    "mip = np.sum(data, axis=1)\n",
    "\n",
    "slice_number = 300 # Example slice number\n",
    "# plt.imshow(data[slice_number, :, slice_number], cmap=‘gray’)\n",
    "plt.imshow(mip, cmap='gray')\n",
    "print(img.header)\n",
    "# is the dimention in mm? The xyzt_units is 0, which means unknown?\n",
    "# print(img.header[‘pixdim’][1:4].shape)\n",
    "# print(np.all(data[:, :, slice_number]==0))\n",
    "plt.show()"
   ]
  },
  {
   "cell_type": "code",
   "execution_count": null,
   "id": "648b2234-25f2-4070-a0f8-a6e9ce3508cd",
   "metadata": {},
   "outputs": [],
   "source": []
  },
  {
   "cell_type": "code",
   "execution_count": null,
   "id": "761b2020-56da-4f86-af47-da023fbb33cf",
   "metadata": {},
   "outputs": [],
   "source": []
  }
 ],
 "metadata": {
  "environment": {
   "kernel": "python3",
   "name": ".m121",
   "type": "gcloud",
   "uri": "us-docker.pkg.dev/deeplearning-platform-release/gcr.io/:m121"
  },
  "kernelspec": {
   "display_name": "Python 3 (Local)",
   "language": "python",
   "name": "python3"
  },
  "language_info": {
   "codemirror_mode": {
    "name": "ipython",
    "version": 3
   },
   "file_extension": ".py",
   "mimetype": "text/x-python",
   "name": "python",
   "nbconvert_exporter": "python",
   "pygments_lexer": "ipython3",
   "version": "3.10.14"
  }
 },
 "nbformat": 4,
 "nbformat_minor": 5
}
