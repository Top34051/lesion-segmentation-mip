{
 "cells": [
  {
   "cell_type": "code",
   "execution_count": null,
   "id": "829f39ff-58ac-440b-9ad3-3485e454faca",
   "metadata": {},
   "outputs": [],
   "source": [
    "import nibabel as nib\n",
    "import matplotlib.pyplot as plt\n",
    "import numpy as np\n",
    "import cv2\n",
    "from scipy.ndimage import zoom, rotate\n",
    "from tqdm import tqdm"
   ]
  },
  {
   "cell_type": "code",
   "execution_count": null,
   "id": "76c15b13-c175-46e7-8ac0-f794b8a32a36",
   "metadata": {},
   "outputs": [],
   "source": [
    "# segmentation\n",
    "#file_path = '../data/sub-data/PETCT_5d10be5b89/05-30-2005-NA-PET-CT Ganzkoerper  primaer mit KM-53829/SEG.nii.gz'\n",
    "#file_path = '../data/sub-data/PETCT_0af7ffe12a/08-12-2005-NA-PET-CT Ganzkoerper  primaer mit KM-96698/SEG.nii.gz'\n",
    "#file_path = '../data/sub-data/PETCT_fe705ea1cc/12-29-2002-NA-Unspecified CT ABDOMEN-93772/SEG.nii.gz'\n",
    "#file_path = '../data/sub-data/PETCT_fe705ea1cc/12-29-2002-NA-Unspecified CT ABDOMEN-93772/SEG.nii.gz'\n",
    "#output_path = '../../outputs/SEG_rotations_4.png'\n",
    "#output3D_path = '../../outputs/3D_segmentation_4rotations.png'\n",
    "\n",
    "# PET SUV\n",
    "file_path = '../../data/PETCT_5d10be5b89/05-30-2005-NA-PET-CT Ganzkoerper  primaer mit KM-53829/SUV.nii.gz'\n",
    "#file_path = '../data/sub-data/PETCT_0af7ffe12a/08-12-2005-NA-PET-CT Ganzkoerper  primaer mit KM-96698/SUV.nii.gz'\n",
    "#file_path = '../data/sub-data/PETCT_fe705ea1cc/12-29-2002-NA-Unspecified CT ABDOMEN-93772/SUV.nii.gz'\n",
    "#file_path = '../data/sub-data/PETCT_fe705ea1cc/12-29-2002-NA-Unspecified CT ABDOMEN-93772/SUV.nii.gz'\n",
    "output_path = '../../outputs/SUV_rotations.png'\n",
    "\n",
    "# CT\n",
    "#file_path = '../data/sub-data/PETCT_5d10be5b89/05-30-2005-NA-PET-CT Ganzkoerper  primaer mit KM-53829/CTres.nii.gz'\n",
    "#file_path = '../data/sub-data/PETCT_0af7ffe12a/08-12-2005-NA-PET-CT Ganzkoerper  primaer mit KM-96698/CTres.nii.gz'\n",
    "#file_path = '../data/sub-data/PETCT_fe705ea1cc/12-29-2002-NA-Unspecified CT ABDOMEN-93772/CTres.nii.gz'\n",
    "#file_path = '../data/sub-data/PETCT_fe705ea1cc/12-29-2002-NA-Unspecified CT ABDOMEN-93772/CTres.nii.gz'\n",
    "\n",
    "mode = 'PET'  # \"PET\" or \"segmentation\" --> This will determine the colormap for visualization\n",
    "if mode == 'segmentation':\n",
    "        cmap = 'gray'\n",
    "elif mode == 'PET':\n",
    "    cmap = 'hot'\n",
    "\n",
    "n_mips_per_axis = 4  #should be exponent of 2"
   ]
  },
  {
   "cell_type": "markdown",
   "id": "42555b37-a843-4f91-b212-ab7a40ef2687",
   "metadata": {},
   "source": [
    "# functions"
   ]
  },
  {
   "cell_type": "code",
   "execution_count": null,
   "id": "076582b2-0720-4271-938d-99badb89460a",
   "metadata": {},
   "outputs": [],
   "source": [
    "def visualize_slice(img, slice_number):\n",
    "    plt.imshow(rotate(img[slice_number,:,:], 90, axes=(0,1), reshape=False, order=0, mode='nearest'),\n",
    "               cmap=cmap)\n",
    "    plt.show()\n",
    "    plt.imshow(rotate(img[:,slice_number,:], 90, axes=(0,1), reshape=False, order=0, mode='nearest'),\n",
    "               cmap=cmap)\n",
    "    plt.show()\n",
    "    plt.imshow(rotate(img[:,:,slice_number], 90, axes=(0,1), reshape=False, order=0, mode='nearest'),\n",
    "               cmap=cmap)\n",
    "    plt.show()\n",
    "\n",
    "\n",
    "def dice_score(gt, pred):\n",
    "    epsilon = 1e-5\n",
    "    numerator = 2 * ((gt * pred).sum())\n",
    "    denominator = gt.sum() + pred.sum() + epsilon\n",
    "    dice = numerator / denominator\n",
    "    return dice"
   ]
  },
  {
   "cell_type": "markdown",
   "id": "bfdeca9a-1121-49e2-b81f-a2901fa66423",
   "metadata": {},
   "source": [
    "# main codes"
   ]
  },
  {
   "cell_type": "code",
   "execution_count": null,
   "id": "629ec7a8-442d-417c-9965-0940b7bde2c7",
   "metadata": {},
   "outputs": [],
   "source": [
    "data = nib.load(file_path)\n",
    "# Convert the image data to a numpy array\n",
    "img = data.get_fdata()\n",
    "print(img.shape)\n",
    "print(data.header['pixdim'])\n",
    "print(img.min(), img.max())\n",
    "\n",
    "# x is horizontal dimension when view cross sectional image\n",
    "# y is vertical dimension when view cross sectional image\n",
    "# z is height dimension of the patient\n",
    "x,y,z = img.shape\n",
    "x_scale, y_scale, z_scale = data.header['pixdim'][1:4]\n",
    "min_scale = min(x_scale, y_scale, z_scale)\n",
    "x_scale /= min_scale\n",
    "y_scale /= min_scale\n",
    "z_scale /= min_scale\n",
    "\n",
    "img = zoom(img, (x_scale, y_scale, z_scale), order=0)  \n",
    "#Spline order 0 is equivalent to nearest neighbor interpolation.\n",
    "print(img.shape)\n",
    "\n",
    "visualize_slice(img, slice_number=200)"
   ]
  },
  {
   "cell_type": "markdown",
   "id": "9d61225c-fd0d-4bda-841b-78b4f642eb2f",
   "metadata": {},
   "source": [
    "# MIPs with rotations"
   ]
  },
  {
   "cell_type": "code",
   "execution_count": null,
   "id": "648b2234-25f2-4070-a0f8-a6e9ce3508cd",
   "metadata": {},
   "outputs": [],
   "source": [
    "print(img.min(), img.max())\n",
    "x,y,z = img.shape\n",
    "\n",
    "mips = {'x':{}, 'y':{}, 'z':{}}\n",
    "\n",
    "fig, ax = plt.subplots(3, n_mips_per_axis, figsize=(10,7.5))\n",
    "\n",
    "#rotate on the x,y plane, and take MIP along x axis\n",
    "for i,angle in tqdm(enumerate(np.linspace(0, 90, num=n_mips_per_axis, endpoint=False))):\n",
    "    rotated_img = rotate(img, angle, axes=(0,1), reshape=False,\n",
    "                        order=0, mode='constant', cval=0.0)\n",
    "    mip = np.max(rotated_img, axis=0)\n",
    "    mips['x'][angle] = mip\n",
    "    ax[0,i].imshow(rotate(mip, 90, axes=(0,1), reshape=False, order=0),\n",
    "                    cmap=cmap)\n",
    "    ax[0,i].axis('off')\n",
    "\n",
    "#rotate on the y,z plane, and take MIP along y axis\n",
    "for i,angle in tqdm(enumerate(np.linspace(0, 90, num=n_mips_per_axis, endpoint=False))):\n",
    "    rotated_img = rotate(img, angle, axes=(1,2), reshape=False,\n",
    "                        order=0, mode='constant', cval=0.0)\n",
    "    mip = np.max(rotated_img, axis=1)\n",
    "    mips['y'][angle] = mip\n",
    "    ax[1,i].imshow(rotate(mip, 90, axes=(0,1), reshape=False, order=0),\n",
    "                    cmap=cmap)\n",
    "    ax[1,i].axis('off')\n",
    "\n",
    "#rotate on the z,x plane, and take MIP along z axis\n",
    "for i,angle in tqdm(enumerate(np.linspace(0, 90, num=n_mips_per_axis, endpoint=False))):\n",
    "    rotated_img = rotate(img, angle, axes=(2,0), reshape=False,\n",
    "                        order=0, mode='constant', cval=0.0)\n",
    "    mip = np.max(rotated_img, axis=2)\n",
    "    mips['z'][angle] = mip\n",
    "    ax[2,i].imshow(rotate(mip, 90, axes=(0,1), reshape=False, order=0),\n",
    "                    cmap=cmap)\n",
    "    ax[2,i].axis('off')\n",
    "\n",
    "plt.subplots_adjust(wspace=0.1, hspace=0.1)\n",
    "plt.savefig(output_path)\n",
    "plt.show()"
   ]
  },
  {
   "cell_type": "markdown",
   "id": "390d0b04-2838-4489-800f-d8cc642e13a3",
   "metadata": {},
   "source": [
    "# Reconstruction of segmentation masks"
   ]
  },
  {
   "cell_type": "code",
   "execution_count": null,
   "id": "b19ce141-2f4e-44d4-9cc8-b0021c12e96b",
   "metadata": {},
   "outputs": [],
   "source": [
    "recon_seg = np.ones(img.shape)\n",
    "\n",
    "#broadcast on the x axis, then \"reverse rotate\" along x,y axis\n",
    "for angle in tqdm(np.linspace(0, 90, num=n_mips_per_axis, endpoint=False)):\n",
    "    broadcast_mip = np.broadcast_to(mips['x'][angle][np.newaxis,:,:], img.shape)\n",
    "    reverse_rotate = rotate(broadcast_mip, 360-angle, axes=(0,1), reshape=False,\n",
    "                            order=0, mode='constant', cval=0.0)\n",
    "    recon_seg *= reverse_rotate\n",
    "\n",
    "#broadcast on the y axis, then \"reverse rotate\" along y,z axis\n",
    "for angle in tqdm(np.linspace(0, 90, num=n_mips_per_axis, endpoint=False)):\n",
    "    broadcast_mip = np.broadcast_to(mips['y'][angle][:,np.newaxis,:], img.shape)\n",
    "    reverse_rotate = rotate(broadcast_mip, 360-angle, axes=(1,2), reshape=False,\n",
    "                            order=0, mode='constant', cval=0.0)\n",
    "    recon_seg *= reverse_rotate\n",
    "\n",
    "#broadcast on the z axis, then \"reverse rotate\" along z,x axis\n",
    "for angle in tqdm(np.linspace(0, 90, num=n_mips_per_axis, endpoint=False)):\n",
    "    broadcast_mip = np.broadcast_to(mips['z'][angle][:,:,np.newaxis], img.shape)\n",
    "    reverse_rotate = rotate(broadcast_mip, 360-angle, axes=(2,0), reshape=False,\n",
    "                            order=0, mode='constant', cval=0.0)\n",
    "    recon_seg *= reverse_rotate\n",
    "    "
   ]
  },
  {
   "cell_type": "code",
   "execution_count": null,
   "id": "f259112e-2f8a-410f-831c-83b71924ce8a",
   "metadata": {},
   "outputs": [],
   "source": [
    "visualize_slice(recon_seg, slice_number=200)"
   ]
  },
  {
   "cell_type": "markdown",
   "id": "6ca252fd-e642-4ea3-b571-e3bec5c82a5c",
   "metadata": {},
   "source": [
    "# Dice score"
   ]
  },
  {
   "cell_type": "code",
   "execution_count": null,
   "id": "9f332539-3151-4488-8294-496ed8cd3caf",
   "metadata": {},
   "outputs": [],
   "source": [
    "dice_score(img, recon_seg)"
   ]
  },
  {
   "cell_type": "markdown",
   "id": "b3f9da5c-9a1c-4501-9d84-e0d9dd6810ec",
   "metadata": {},
   "source": [
    "# 3D plot"
   ]
  },
  {
   "cell_type": "code",
   "execution_count": null,
   "id": "cbd7cef3-b79c-45cc-b586-875af0f8a766",
   "metadata": {},
   "outputs": [],
   "source": [
    "#need to resize the img for 3D plotting because it consumes much memory\n",
    "img_plot = zoom(img, (0.25, 0.25, 0.25), order=0)\n",
    "recon_plot = zoom(recon_seg, (0.25, 0.25, 0.25), order=0)\n",
    "\n",
    "x,y,z = img_plot.shape\n",
    "\n",
    "xline = np.arange(x)\n",
    "yline = np.arange(y)\n",
    "zline = np.arange(z)\n",
    "\n",
    "coordinates = np.zeros((x*y*z, 3))\n",
    "values = np.zeros((x*y*z,))\n",
    "recon_values = np.zeros((x*y*z,))\n",
    "count = 0\n",
    "for i in tqdm(xline):\n",
    "    for j in yline:\n",
    "        for k in zline:\n",
    "            coordinates[count,:] = [i,j,k]\n",
    "            values[count] = img_plot[i,j,k]\n",
    "            recon_values[count] = recon_plot[i,j,k]\n",
    "            count += 1"
   ]
  },
  {
   "cell_type": "code",
   "execution_count": null,
   "id": "0d0682a1-ca1d-45ec-a1e9-e2317e3255b1",
   "metadata": {},
   "outputs": [],
   "source": [
    "fig = plt.figure(figsize=(10,6))\n",
    "ax1 = fig.add_subplot(121, projection='3d') # 121 indicates: 1 row, 2 columns, first plot\n",
    "ax2 = fig.add_subplot(122, projection='3d') # 122 indicates: 1 row, 2 columns, second plot\n",
    "\n",
    "ax1.scatter(coordinates[values==1,0], \n",
    "            coordinates[values==1,1], \n",
    "            coordinates[values==1,2], \n",
    "            c=values[values==1], \n",
    "           cmap='Greens',\n",
    "          vmin=0,\n",
    "          vmax=1,\n",
    "          alpha=0.1)\n",
    "ax1.set_xlim(0,x)\n",
    "ax1.set_ylim(0,y)\n",
    "ax1.set_zlim(0,z)\n",
    "ax1.set_xticks([])\n",
    "ax1.set_yticks([])\n",
    "ax1.set_zticks([])\n",
    "\n",
    "ax2.scatter(coordinates[recon_values==1,0], \n",
    "            coordinates[recon_values==1,1], \n",
    "            coordinates[recon_values==1,2], \n",
    "            c=recon_values[recon_values==1], \n",
    "           cmap='Greens',\n",
    "          vmin=0,\n",
    "          vmax=1,\n",
    "          alpha=0.1)\n",
    "ax2.set_xlim(0,x)\n",
    "ax2.set_ylim(0,y)\n",
    "ax2.set_zlim(0,z)\n",
    "ax2.set_xticks([])\n",
    "ax2.set_yticks([])\n",
    "ax2.set_zticks([])\n",
    "\n",
    "plt.savefig(output3D_path)\n",
    "plt.show()"
   ]
  },
  {
   "cell_type": "code",
   "execution_count": null,
   "id": "5c9eb51b-25cf-4f3a-91d0-6d0761d8cae1",
   "metadata": {},
   "outputs": [],
   "source": []
  }
 ],
 "metadata": {
  "environment": {
   "kernel": "preprocess",
   "name": ".m121",
   "type": "gcloud",
   "uri": "us-docker.pkg.dev/deeplearning-platform-release/gcr.io/:m121"
  },
  "kernelspec": {
   "display_name": "preprocess (Local)",
   "language": "python",
   "name": "preprocess"
  },
  "language_info": {
   "codemirror_mode": {
    "name": "ipython",
    "version": 3
   },
   "file_extension": ".py",
   "mimetype": "text/x-python",
   "name": "python",
   "nbconvert_exporter": "python",
   "pygments_lexer": "ipython3",
   "version": "3.8.5"
  }
 },
 "nbformat": 4,
 "nbformat_minor": 5
}
