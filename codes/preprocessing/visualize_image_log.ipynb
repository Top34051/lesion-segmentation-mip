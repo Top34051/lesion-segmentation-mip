{
 "cells": [
  {
   "cell_type": "code",
   "execution_count": null,
   "id": "7f958e37-7353-4026-b6f5-fa5ae5a76920",
   "metadata": {
    "tags": []
   },
   "outputs": [],
   "source": [
    "import os\n",
    "from os.path import join, exists\n",
    "import matplotlib.pyplot as plt\n",
    "import cv2"
   ]
  },
  {
   "cell_type": "code",
   "execution_count": null,
   "id": "e92d847b-36f4-4720-8148-9aa46e7a1fd4",
   "metadata": {
    "tags": []
   },
   "outputs": [],
   "source": [
    "log_dir = '../ControlNet/image_log/train'"
   ]
  },
  {
   "cell_type": "code",
   "execution_count": null,
   "id": "cb35423c-bc1a-4ef1-8781-69b987aaf06c",
   "metadata": {
    "tags": []
   },
   "outputs": [],
   "source": [
    "samples = []\n",
    "for r,d,f in os.walk(log_dir):\n",
    "    for filename in f:\n",
    "        if filename.startswith('samples') and ('.ipynb_checkpoints' not in r):\n",
    "            samples.append(join(r,filename))"
   ]
  },
  {
   "cell_type": "code",
   "execution_count": null,
   "id": "aebd2a7a-00b1-4dc9-8b2f-1b0bc2b8f5b3",
   "metadata": {
    "tags": []
   },
   "outputs": [],
   "source": [
    "samples.sort(key = lambda path: -int(path.split('_')[-3].split('-')[1]))\n",
    "\n",
    "for sample_path in samples:\n",
    "    suffix = sample_path[sample_path.find('gs'):]\n",
    "    conditioning_path = sample_path.replace('samples_cfg_scale_9.00', 'conditioning')\n",
    "    control_path = sample_path.replace('samples_cfg_scale_9.00', 'control')\n",
    "    reconstruction_path = sample_path.replace('samples_cfg_scale_9.00', 'reconstruction')\n",
    "    \n",
    "    print(sample_path)\n",
    "    print(reconstruction_path)\n",
    "    print(control_path)\n",
    "    print(conditioning_path)\n",
    "    \n",
    "    sample_img = cv2.cvtColor(cv2.imread(sample_path), cv2.COLOR_BGR2GRAY)\n",
    "    reconstruction_img = cv2.cvtColor(cv2.imread(reconstruction_path), cv2.COLOR_BGR2GRAY)\n",
    "    control_img = cv2.cvtColor(cv2.imread(control_path), cv2.COLOR_BGR2GRAY)\n",
    "    conditioning_img = cv2.cvtColor(cv2.imread(conditioning_path), cv2.COLOR_BGR2GRAY)\n",
    "    \n",
    "    \n",
    "    fig,ax = plt.subplots(1,4, figsize=(12,3))\n",
    "    ax[0].imshow(sample_img, cmap='hot')  #, vmin=sample_img.min(), vmax=sample_img.max())\n",
    "    ax[0].set_title('generated image')\n",
    "    ax[1].imshow(reconstruction_img, cmap='hot')  #, vmin=reconstruction_img.min(), vmax=reconstruction_img.max())\n",
    "    ax[1].set_title('ground truth image')\n",
    "    ax[2].imshow(control_img, cmap='gray')\n",
    "    ax[2].set_title('segmentation mask')\n",
    "    ax[3].imshow(conditioning_img, cmap='gray')\n",
    "    ax[3].set_title('prompt')\n",
    "    \n",
    "    plt.show()\n",
    "    "
   ]
  },
  {
   "cell_type": "code",
   "execution_count": null,
   "id": "5735bb58-3878-49dd-9d5e-750e7abd52cc",
   "metadata": {},
   "outputs": [],
   "source": []
  },
  {
   "cell_type": "code",
   "execution_count": null,
   "id": "c1f1e9b2-1223-4979-b936-066cce0d232b",
   "metadata": {},
   "outputs": [],
   "source": []
  }
 ],
 "metadata": {
  "environment": {
   "kernel": "preprocess",
   "name": ".m121",
   "type": "gcloud",
   "uri": "us-docker.pkg.dev/deeplearning-platform-release/gcr.io/:m121"
  },
  "kernelspec": {
   "display_name": "preprocess (Local)",
   "language": "python",
   "name": "preprocess"
  },
  "language_info": {
   "codemirror_mode": {
    "name": "ipython",
    "version": 3
   },
   "file_extension": ".py",
   "mimetype": "text/x-python",
   "name": "python",
   "nbconvert_exporter": "python",
   "pygments_lexer": "ipython3",
   "version": "3.8.5"
  }
 },
 "nbformat": 4,
 "nbformat_minor": 5
}
