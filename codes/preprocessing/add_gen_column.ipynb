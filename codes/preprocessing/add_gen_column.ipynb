{
 "cells": [
  {
   "cell_type": "code",
   "execution_count": 4,
   "id": "288b419c-ce7b-456c-9ae2-8c063aeff2a8",
   "metadata": {
    "tags": []
   },
   "outputs": [],
   "source": [
    "import pandas as pd\n",
    "from tqdm import tqdm"
   ]
  },
  {
   "cell_type": "code",
   "execution_count": 5,
   "id": "35b87589-0f69-4dda-baf0-4cc28bc8746e",
   "metadata": {
    "tags": []
   },
   "outputs": [],
   "source": [
    "dataset_path = '../../spreadsheet/MIP_paths_and_prompts_square512.xlsx'\n",
    "export_path = '../../spreadsheet/MIP_paths_and_prompts_square512_gen_complete.xlsx'"
   ]
  },
  {
   "cell_type": "code",
   "execution_count": 6,
   "id": "646b7a55-b2fa-4856-b3a7-014b483e0078",
   "metadata": {
    "tags": []
   },
   "outputs": [
    {
     "name": "stderr",
     "output_type": "stream",
     "text": [
      "100%|██████████| 12168/12168 [00:02<00:00, 4856.62it/s]\n"
     ]
    }
   ],
   "source": [
    "df = pd.read_excel(dataset_path)\n",
    "\n",
    "for row_idx in tqdm(df.index):\n",
    "    \n",
    "    seg_path = df.loc[row_idx,'SEG_MIP_path']\n",
    "    suv_path = df.loc[row_idx,'SUV_MIP_path']\n",
    "    \n",
    "    gen_seg_path = seg_path.replace('/MIP_square512/', '/gen_MIP_square512/')\n",
    "    gen_suv_path = suv_path.replace('/MIP_square512/', '/gen_MIP_square512/')\n",
    "    df.loc[row_idx, 'gen_SUV_MIP_path'] = gen_suv_path\n",
    "    df.loc[row_idx, 'gen_SEG_MIP_path'] = gen_seg_path\n",
    "    "
   ]
  },
  {
   "cell_type": "code",
   "execution_count": 7,
   "id": "22fdf613-579b-4f97-87ac-e926252827f4",
   "metadata": {
    "tags": []
   },
   "outputs": [],
   "source": [
    "df.to_excel(export_path, index=False)"
   ]
  },
  {
   "cell_type": "code",
   "execution_count": null,
   "id": "3ab8fc16-4a67-446c-947b-c1c09ce0cd82",
   "metadata": {},
   "outputs": [],
   "source": []
  },
  {
   "cell_type": "code",
   "execution_count": null,
   "id": "b0ff5414-9cad-4059-9eb9-a51c55a301bd",
   "metadata": {},
   "outputs": [],
   "source": []
  }
 ],
 "metadata": {
  "environment": {
   "kernel": "preprocess",
   "name": ".m121",
   "type": "gcloud",
   "uri": "us-docker.pkg.dev/deeplearning-platform-release/gcr.io/:m121"
  },
  "kernelspec": {
   "display_name": "preprocess (Local)",
   "language": "python",
   "name": "preprocess"
  },
  "language_info": {
   "codemirror_mode": {
    "name": "ipython",
    "version": 3
   },
   "file_extension": ".py",
   "mimetype": "text/x-python",
   "name": "python",
   "nbconvert_exporter": "python",
   "pygments_lexer": "ipython3",
   "version": "3.8.5"
  }
 },
 "nbformat": 4,
 "nbformat_minor": 5
}
