{
 "cells": [
  {
   "cell_type": "code",
   "execution_count": 1,
   "id": "db70d13f-dbb3-4475-8ce8-663825bd9f1e",
   "metadata": {
    "tags": []
   },
   "outputs": [],
   "source": [
    "import os\n",
    "from os.path import join, exists, dirname\n",
    "from tqdm import tqdm\n",
    "import pickle\n",
    "import matplotlib.pyplot as plt\n",
    "from scipy.ndimage import zoom\n",
    "import numpy as np\n",
    "import pandas as pd"
   ]
  },
  {
   "cell_type": "code",
   "execution_count": 2,
   "id": "2cda72fe-1673-4bac-a9fa-7c04ed710cd6",
   "metadata": {
    "tags": []
   },
   "outputs": [],
   "source": [
    "dataset_path = '../../data/MIP_paths_and_prompts_square512_gen_complete.xlsx'\n"
   ]
  },
  {
   "cell_type": "code",
   "execution_count": null,
   "id": "0642ebeb-9d81-4910-b8f1-71a12c7de261",
   "metadata": {},
   "outputs": [],
   "source": [
    "df = pd.read_excel(dataset_path)"
   ]
  },
  {
   "cell_type": "code",
   "execution_count": 5,
   "id": "8cb49ecb-7dc3-4ec6-ac37-e47ed2c844cd",
   "metadata": {},
   "outputs": [
    {
     "name": "stderr",
     "output_type": "stream",
     "text": [
      "100%|██████████| 12168/12168 [07:47<00:00, 26.00it/s]\n"
     ]
    }
   ],
   "source": [
    "for row_idx in df.index:\n",
    "    ori_path = df.loc[row_idx, 'ori_path']  #path to the image with original aspect ratio\n",
    "    with open(ori_path, 'rb') as f:\n",
    "        img = pickle.load(f)\n",
    "        \n",
    "    height,width = img.shape\n",
    "    max_dim = max(height, width)\n",
    "    resized_img = zoom(img, 512.0/max_dim, order=0, mode='constant', cval=0.0)\n",
    "\n",
    "    h, w = resized_img.shape\n",
    "    margin_h = int((512 - h) / 2)\n",
    "    margin_w = int((512 - w) / 2)\n",
    "    \n",
    "    square_path = df.loc[row_idx, 'square_path']  #path to the square image\n",
    "    with open(square_path, 'rb') as f:\n",
    "        square_img = pickle.load(f)\n",
    "    \n",
    "    reverse_img = square_img[margin_h:margin_h+h, margin_w:margin_w+w]\n",
    "\n",
    "    #write reverse_img to the path you want"
   ]
  },
  {
   "cell_type": "code",
   "execution_count": null,
   "id": "396018fd-e0c7-440e-9f0b-df1b5bc60fda",
   "metadata": {},
   "outputs": [],
   "source": []
  }
 ],
 "metadata": {
  "environment": {
   "kernel": "preprocess",
   "name": ".m121",
   "type": "gcloud",
   "uri": "us-docker.pkg.dev/deeplearning-platform-release/gcr.io/:m121"
  },
  "kernelspec": {
   "display_name": "Python 3 (ipykernel)",
   "language": "python",
   "name": "python3"
  },
  "language_info": {
   "codemirror_mode": {
    "name": "ipython",
    "version": 3
   },
   "file_extension": ".py",
   "mimetype": "text/x-python",
   "name": "python",
   "nbconvert_exporter": "python",
   "pygments_lexer": "ipython3",
   "version": "3.11.5"
  }
 },
 "nbformat": 4,
 "nbformat_minor": 5
}
