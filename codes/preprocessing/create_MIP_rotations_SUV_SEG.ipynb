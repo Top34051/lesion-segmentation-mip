{
 "cells": [
  {
   "cell_type": "code",
   "execution_count": null,
   "id": "829f39ff-58ac-440b-9ad3-3485e454faca",
   "metadata": {
    "tags": []
   },
   "outputs": [],
   "source": [
    "import nibabel as nib\n",
    "import matplotlib.pyplot as plt\n",
    "import numpy as np\n",
    "import cv2\n",
    "from scipy.ndimage import zoom, rotate\n",
    "from tqdm import tqdm\n",
    "import os\n",
    "from os.path import join, dirname, basename, exists\n",
    "from pprint import pprint\n",
    "import pickle"
   ]
  },
  {
   "cell_type": "code",
   "execution_count": null,
   "id": "76c15b13-c175-46e7-8ac0-f794b8a32a36",
   "metadata": {},
   "outputs": [],
   "source": [
    "# segmentation\n",
    "data_dir = '../../data'\n",
    "\n",
    "n_mips_per_axis = 4  #should be exponent of 2"
   ]
  },
  {
   "cell_type": "markdown",
   "id": "42555b37-a843-4f91-b212-ab7a40ef2687",
   "metadata": {},
   "source": [
    "# functions"
   ]
  },
  {
   "cell_type": "code",
   "execution_count": null,
   "id": "076582b2-0720-4271-938d-99badb89460a",
   "metadata": {},
   "outputs": [],
   "source": [
    "def visualize_slice(img, slice_number):\n",
    "    plt.imshow(rotate(img[slice_number,:,:], 90, axes=(0,1), reshape=False, order=0, mode='nearest'),\n",
    "               cmap=cmap)\n",
    "    plt.show()\n",
    "    plt.imshow(rotate(img[:,slice_number,:], 90, axes=(0,1), reshape=False, order=0, mode='nearest'),\n",
    "               cmap=cmap)\n",
    "    plt.show()\n",
    "    plt.imshow(rotate(img[:,:,slice_number], 90, axes=(0,1), reshape=False, order=0, mode='nearest'),\n",
    "               cmap=cmap)\n",
    "    plt.show()\n",
    "\n",
    "\n",
    "def dice_score(gt, pred):\n",
    "    epsilon = 1e-5\n",
    "    numerator = 2 * ((gt * pred).sum())\n",
    "    denominator = gt.sum() + pred.sum() + epsilon\n",
    "    dice = numerator / denominator\n",
    "    return dice"
   ]
  },
  {
   "cell_type": "markdown",
   "id": "bfdeca9a-1121-49e2-b81f-a2901fa66423",
   "metadata": {},
   "source": [
    "# main codes"
   ]
  },
  {
   "cell_type": "code",
   "execution_count": null,
   "id": "1dffa055-e76e-46b9-b185-8940fc80eb34",
   "metadata": {
    "tags": []
   },
   "outputs": [],
   "source": [
    "SUV_paths = []\n",
    "SEG_paths = []\n",
    "\n",
    "for r,d,f in os.walk(data_dir):\n",
    "    for filename in f:\n",
    "        if filename == 'SUV.nii.gz':\n",
    "            SUV_paths.append(join(r,filename))\n",
    "        if filename == 'SEG.nii.gz':\n",
    "            SEG_paths.append(join(r,filename))\n",
    "            \n",
    "print(len(SUV_paths))\n",
    "pprint(SUV_paths[:2])\n",
    "print(len(SEG_paths))\n",
    "pprint(SEG_paths[:2])"
   ]
  },
  {
   "cell_type": "code",
   "execution_count": null,
   "id": "629ec7a8-442d-417c-9965-0940b7bde2c7",
   "metadata": {},
   "outputs": [],
   "source": [
    "def create_mips(paths):\n",
    "    for file_path in tqdm(paths):\n",
    "        filename = basename(file_path)\n",
    "        data = nib.load(file_path)\n",
    "        img = data.get_fdata()\n",
    "\n",
    "        # x is horizontal dimension when view cross sectional image\n",
    "        # y is vertical dimension when view cross sectional image\n",
    "        # z is height dimension of the patient\n",
    "        x,y,z = img.shape\n",
    "        x_scale, y_scale, z_scale = data.header['pixdim'][1:4]\n",
    "        min_scale = min(x_scale, y_scale, z_scale)\n",
    "        x_scale /= min_scale\n",
    "        y_scale /= min_scale\n",
    "        z_scale /= min_scale\n",
    "\n",
    "        img = zoom(img, (x_scale, y_scale, z_scale), order=0)  \n",
    "        #Spline order 0 is equivalent to nearest neighbor interpolation.\n",
    "\n",
    "        ###########################\n",
    "        #create Maximum Intensity Projections (MIPs)\n",
    "        ###########################\n",
    "\n",
    "        x,y,z = img.shape\n",
    "\n",
    "        mips = {'x':{}, 'y':{}, 'z':{}}\n",
    "\n",
    "        #rotate on the x,y plane, and take MIP along x axis\n",
    "        for i,angle in enumerate(np.linspace(0, 90, num=n_mips_per_axis, endpoint=False)):\n",
    "            rotated_img = rotate(img, angle, axes=(0,1), reshape=False,\n",
    "                                order=0, mode='constant', cval=0.0)\n",
    "            mip = np.max(rotated_img, axis=0)\n",
    "            mips['x'][angle] = mip\n",
    "\n",
    "        #rotate on the y,z plane, and take MIP along y axis\n",
    "        for i,angle in enumerate(np.linspace(0, 90, num=n_mips_per_axis, endpoint=False)):\n",
    "            rotated_img = rotate(img, angle, axes=(1,2), reshape=False,\n",
    "                                order=0, mode='constant', cval=0.0)\n",
    "            mip = np.max(rotated_img, axis=1)\n",
    "            mips['y'][angle] = mip\n",
    "\n",
    "        #rotate on the z,x plane, and take MIP along z axis\n",
    "        for i,angle in enumerate(np.linspace(0, 90, num=n_mips_per_axis, endpoint=False)):\n",
    "            rotated_img = rotate(img, angle, axes=(2,0), reshape=False,\n",
    "                                order=0, mode='constant', cval=0.0)\n",
    "            mip = np.max(rotated_img, axis=2)\n",
    "            mips['z'][angle] = mip\n",
    "        \n",
    "        if filename == 'SUV.nii.gz':\n",
    "            mip_dir = join(dirname(file_path).replace('/data/', '/MIP/'), 'SUV_MIP')\n",
    "            mip_prefix = 'SUV_MIP'\n",
    "        elif filename == 'SEG.nii.gz':\n",
    "            mip_dir = join(dirname(file_path).replace('/data/', '/MIP/'), 'SEG_MIP')\n",
    "            mip_prefix = 'SEG_MIP'\n",
    "            \n",
    "        if not exists(mip_dir):\n",
    "            os.makedirs(mip_dir)\n",
    "        \n",
    "        for axis_name in ['x','y','z']:\n",
    "            for angle in mips[axis_name].keys():\n",
    "                mip = mips[axis_name][angle]\n",
    "                out_path = join(mip_dir, mip_prefix + '_' + axis_name + '_' + str(round(angle,2)) + '_' + 'degrees' + '.pkl')\n",
    "                with open(out_path, 'wb') as f:\n",
    "                    pickle.dump(mip, f)\n",
    "            "
   ]
  },
  {
   "cell_type": "code",
   "execution_count": null,
   "id": "e3fc2d11-a617-49e2-9ae1-6bd77f4ef8e7",
   "metadata": {},
   "outputs": [],
   "source": [
    "create_mips(SUV_paths)\n",
    "create_mips(SEG_paths)"
   ]
  },
  {
   "cell_type": "code",
   "execution_count": null,
   "id": "5c9eb51b-25cf-4f3a-91d0-6d0761d8cae1",
   "metadata": {},
   "outputs": [],
   "source": []
  }
 ],
 "metadata": {
  "environment": {
   "kernel": "preprocess",
   "name": "workbench-notebooks.m120",
   "type": "gcloud",
   "uri": "us-docker.pkg.dev/deeplearning-platform-release/gcr.io/workbench-notebooks:m120"
  },
  "kernelspec": {
   "display_name": "Python 3 (ipykernel)",
   "language": "python",
   "name": "python3"
  },
  "language_info": {
   "codemirror_mode": {
    "name": "ipython",
    "version": 3
   },
   "file_extension": ".py",
   "mimetype": "text/x-python",
   "name": "python",
   "nbconvert_exporter": "python",
   "pygments_lexer": "ipython3",
   "version": "3.11.5"
  }
 },
 "nbformat": 4,
 "nbformat_minor": 5
}
