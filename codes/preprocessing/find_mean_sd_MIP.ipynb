{
 "cells": [
  {
   "cell_type": "code",
   "execution_count": 6,
   "id": "e1c690c0-1b07-4510-b472-2d23430e386a",
   "metadata": {
    "tags": []
   },
   "outputs": [],
   "source": [
    "import numpy as np\n",
    "import pandas as pd\n",
    "import pickle\n",
    "from tqdm import tqdm"
   ]
  },
  {
   "cell_type": "code",
   "execution_count": 7,
   "id": "1ca9a5d9-382a-4287-9881-ee5b5a4d72e1",
   "metadata": {
    "tags": []
   },
   "outputs": [],
   "source": [
    "dataset_path = '../../spreadsheet/MIP_paths_and_prompts.xlsx'\n"
   ]
  },
  {
   "cell_type": "code",
   "execution_count": 8,
   "id": "bca21f25-39e3-420d-9d06-94f934989e9e",
   "metadata": {
    "tags": []
   },
   "outputs": [
    {
     "name": "stdout",
     "output_type": "stream",
     "text": [
      "(12168, 13)\n"
     ]
    }
   ],
   "source": [
    "df = pd.read_excel(dataset_path)\n",
    "print(df.shape)"
   ]
  },
  {
   "cell_type": "code",
   "execution_count": null,
   "id": "9c2a38ec-640f-4185-b7a0-433e8f155938",
   "metadata": {
    "tags": []
   },
   "outputs": [
    {
     "name": "stderr",
     "output_type": "stream",
     "text": [
      "6it [00:00, 59.03it/s]"
     ]
    },
    {
     "name": "stdout",
     "output_type": "stream",
     "text": [
      "mean: 0.8400549547720259\n",
      "std: 2.4204900187499954\n",
      "min: 0.0\n",
      "max: 72.51238250732422\n"
     ]
    },
    {
     "name": "stderr",
     "output_type": "stream",
     "text": [
      "2000it [01:02, 34.44it/s] "
     ]
    },
    {
     "name": "stdout",
     "output_type": "stream",
     "text": [
      "mean: 0.953597656086328\n",
      "std: 3.0617710590098417\n",
      "min: 0.0\n"
     ]
    },
    {
     "name": "stderr",
     "output_type": "stream",
     "text": [
      "2003it [02:27,  7.15s/it]"
     ]
    },
    {
     "name": "stdout",
     "output_type": "stream",
     "text": [
      "max: 401.89019775390625\n"
     ]
    },
    {
     "name": "stderr",
     "output_type": "stream",
     "text": [
      "3998it [04:15, 27.39it/s]"
     ]
    },
    {
     "name": "stdout",
     "output_type": "stream",
     "text": [
      "mean: 0.9591433453946578\n"
     ]
    }
   ],
   "source": [
    "pixel_values = []\n",
    "for i,row_idx in tqdm(enumerate(df.index)):\n",
    "    img_path = df.loc[row_idx, 'SUV_MIP_path']\n",
    "    with open(img_path, 'rb') as f:\n",
    "        img = pickle.load(f)\n",
    "    pixel_values += img.flatten().tolist()\n",
    "    if i%2000 == 0:\n",
    "        print('mean:', np.mean(pixel_values))\n",
    "        print('std:', np.std(pixel_values))\n",
    "        print('min:', np.min(pixel_values))\n",
    "        print('max:', np.max(pixel_values))"
   ]
  },
  {
   "cell_type": "code",
   "execution_count": null,
   "id": "9ae91bfe-565e-43d5-8492-5c4d1e08f04c",
   "metadata": {},
   "outputs": [],
   "source": [
    "print('mean:', np.mean(pixel_values))\n",
    "print('std:', np.std(pixel_values))\n",
    "print('min:', np.min(pixel_values))\n",
    "print('max:', np.max(pixel_values))"
   ]
  },
  {
   "cell_type": "code",
   "execution_count": null,
   "id": "17f8c8fd-45bf-48be-a305-324db3474a3d",
   "metadata": {},
   "outputs": [],
   "source": []
  }
 ],
 "metadata": {
  "environment": {
   "kernel": "preprocess",
   "name": "workbench-notebooks.m120",
   "type": "gcloud",
   "uri": "us-docker.pkg.dev/deeplearning-platform-release/gcr.io/workbench-notebooks:m120"
  },
  "kernelspec": {
   "display_name": "preprocess (Local)",
   "language": "python",
   "name": "preprocess"
  },
  "language_info": {
   "codemirror_mode": {
    "name": "ipython",
    "version": 3
   },
   "file_extension": ".py",
   "mimetype": "text/x-python",
   "name": "python",
   "nbconvert_exporter": "python",
   "pygments_lexer": "ipython3",
   "version": "3.8.5"
  }
 },
 "nbformat": 4,
 "nbformat_minor": 5
}
