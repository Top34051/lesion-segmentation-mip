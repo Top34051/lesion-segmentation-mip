{
 "cells": [
  {
   "cell_type": "code",
   "execution_count": null,
   "id": "39ae653b-ee8b-4314-8ca6-9428f7562096",
   "metadata": {},
   "outputs": [],
   "source": [
    "pet = nib.load(\"nnUNet_raw/Dataset700_PET_CT_Recon\")"
   ]
  }
 ],
 "metadata": {
  "kernelspec": {
   "display_name": "nnunet",
   "language": "python",
   "name": "nnunet"
  },
  "language_info": {
   "codemirror_mode": {
    "name": "ipython",
    "version": 3
   },
   "file_extension": ".py",
   "mimetype": "text/x-python",
   "name": "python",
   "nbconvert_exporter": "python",
   "pygments_lexer": "ipython3",
   "version": "3.9.19"
  }
 },
 "nbformat": 4,
 "nbformat_minor": 5
}
